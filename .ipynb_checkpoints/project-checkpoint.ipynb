{
 "cells": [
  {
   "cell_type": "code",
   "execution_count": 1,
   "id": "f83ecafd",
   "metadata": {},
   "outputs": [],
   "source": [
    "import sys\n",
    "sys.path.append(\"src\")\n",
    "\n",
    "from data_preprocessing import load_data"
   ]
  },
  {
   "cell_type": "code",
   "execution_count": 2,
   "id": "6b22ad5d",
   "metadata": {},
   "outputs": [
    {
     "name": "stdout",
     "output_type": "stream",
     "text": [
      "A1\n",
      "A5\n",
      "A3\n",
      "A0.5\n"
     ]
    }
   ],
   "source": [
    "data = load_data(\"data\")"
   ]
  },
  {
   "cell_type": "code",
   "execution_count": null,
   "id": "a4509372",
   "metadata": {},
   "outputs": [],
   "source": []
  }
 ],
 "metadata": {
  "kernelspec": {
   "display_name": "Python 3 (ipykernel)",
   "language": "python",
   "name": "python3"
  },
  "language_info": {
   "codemirror_mode": {
    "name": "ipython",
    "version": 3
   },
   "file_extension": ".py",
   "mimetype": "text/x-python",
   "name": "python",
   "nbconvert_exporter": "python",
   "pygments_lexer": "ipython3",
   "version": "3.10.12"
  }
 },
 "nbformat": 4,
 "nbformat_minor": 5
}
