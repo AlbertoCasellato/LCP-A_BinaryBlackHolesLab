{
 "cells": [
  {
   "cell_type": "code",
   "execution_count": 1,
   "id": "f9440fd2-e22d-4263-9826-1622343af3c7",
   "metadata": {},
   "outputs": [],
   "source": [
    "# basic libraries and functions\n",
    "import os\n",
    "import numpy as np\n",
    "import pandas as pd\n",
    "import matplotlib.pyplot as plt\n",
    "#\n",
    "import pickle\n",
    "#\n",
    "from sklearn.model_selection import train_test_split\n",
    "from sklearn.ensemble import RandomForestClassifier\n",
    "from sklearn.metrics import accuracy_score\n",
    "#\n",
    "#\n",
    "SAVE = lambda data, dir, name: pickle.dump(data, open(dir + name + \".pkl\", \"wb\"))   # save file\n",
    "LOAD = lambda file:            pickle.load(open(file + \".pkl\", \"rb\"))               # read file"
   ]
  },
  {
   "cell_type": "code",
   "execution_count": 2,
   "id": "fddac177-8c26-49d8-a5b5-9fb63478a33c",
   "metadata": {},
   "outputs": [],
   "source": [
    "# read if file exists\n",
    "def TRY_LOAD(file):\n",
    "    try:\n",
    "        data = LOAD(file)\n",
    "        return data\n",
    "    except:\n",
    "        return 0\n",
    "        #\n",
    "    #####\n",
    "    #\n",
    "#####"
   ]
  },
  {
   "cell_type": "code",
   "execution_count": 3,
   "id": "82a40c71-a08e-48b5-a67c-43f70727e3db",
   "metadata": {},
   "outputs": [],
   "source": [
    "# basic paths\n",
    "ORIGIN = \"original_features\"                                         # original features\n",
    "DER_1  = \"der_features_hypothesis_1\"                                 # derived features: ver. 1\n",
    "DER_2  = \"der_features_hypothesis_2\"                                 # derived features: ver. 2\n",
    "#\n",
    "correlations_dir = \"b_correlations/\"                                 # directory of \"find_correlations\" outputs\n",
    "fitted_model_all = \"a_fitted_model/all_dataset/\"                     # directory of \"RandomForestClassifier\" outputs (using all dataset)\n",
    "fitted_model_par = \"a_fitted_model/partial_dataset/\"                 # directory of \"RandomForestClassifier\" outputs (with partial dataset)\n",
    "gini_impurities  = \"c_gini_impurities/\"                              # directory of \"Feature_Importances\" outputes (1/10 of dataset)\n",
    "#\n",
    "#\n",
    "fitted_all_original_features  = TRY_LOAD(fitted_model_all + ORIGIN)  # random forest weights (for all original dataset)\n",
    "fitted_all_der_features_hyp_1 = TRY_LOAD(fitted_model_all + DER_1)   # random forest weights (for all der. ver. 1 dataset)\n",
    "fitted_all_der_features_hyp_2 = TRY_LOAD(fitted_model_all + DER_2)   # random forest weights (for all der. ver. 2 dataset)\n",
    "#\n",
    "#\n",
    "original_features_correlation = TRY_LOAD(correlations_dir + ORIGIN)  # correlation study (for all original dataset)\n",
    "derived_features_correlation  = TRY_LOAD(correlations_dir + DER_1)   # correlation study (for all der. ver. 1 dataset)\n",
    "#\n",
    "#\n",
    "gini_impurities_of_original   = TRY_LOAD(gini_impurities + ORIGIN)   # gini impurities among original features\n",
    "#                                                                    # (average among many realizations of 1/10 of dataset)\n",
    "gini_impurities_of_derived_1  = TRY_LOAD(gini_impurities + DER_1)    # gini impurities among derived features (same)"
   ]
  },
  {
   "cell_type": "code",
   "execution_count": 4,
   "id": "58552b3b-cb49-4182-ba89-c93c9e4e21ed",
   "metadata": {},
   "outputs": [],
   "source": [
    "# reading original features\n",
    "def make_df(dir, file):\n",
    "    df     = pd.DataFrame()\n",
    "    df_tmp = pd.read_csv(\"data/\" + dir + \"/\" + file, delimiter = \" \", skiprows = 2)\n",
    "    #\n",
    "    df[\"ALPHA\"] = 0                                # associated with the efficiency of common envelope\n",
    "    df[\"METAL\"] = 0                                # stellar metallicity at which the black holes where produced\n",
    "    df[\"MST1\"]  = df_tmp[\"col.1:m1ZAMS/Msun\"]      # ZAMS mass of the primary member of the binary system (BS) [Msun]\n",
    "    df[\"MST2\"]  = df_tmp[\"col.2:m2ZAMS/Msun\"]      # ZAMS mass of the secondary member of the BS [Msun]\n",
    "    df[\"MBH1\"]  = df_tmp[\"col.3:m1rem/Msun\"]       # mass of the black hole (BH) from the primary member [Msun]\n",
    "    df[\"MBH2\"]  = df_tmp[\"col.4:m2rem/Msun\"]       # mass of the BH from the secondary member [Msun]\n",
    "    df[\"TIME\"]  = df_tmp[\"col.6:delay_time/Myr\"]   # time from the formation of the BS to the merger of the two BH [Myr]\n",
    "    df[\"AXIS\"]  = df_tmp[\"col.7:sma/Rsun\"]         # semi-major axis of the BS at the formation of the second-born BH [Rsun] \n",
    "    df[\"ECCE\"]  = df_tmp[\"col.8:ecc\"]              # orbital eccentricity of the BS at the formation of the second-born BH\n",
    "    df[\"ISCE\"]  = df_tmp[\"col.21:CE\"]              # True: the BS undergoes a common envelope. False: the BS goes via stable mass transfer\n",
    "    df[\"ALPHA\"] = np.float64(dir[1:])\n",
    "    df[\"METAL\"] = np.float64(file.split(\"_\")[-1].split(\".txt\")[0])\n",
    "    del df_tmp\n",
    "    return df\n",
    "    #\n",
    "#####"
   ]
  },
  {
   "cell_type": "code",
   "execution_count": 5,
   "id": "f6da43c7-279c-4342-a5e5-b0d028fd390a",
   "metadata": {},
   "outputs": [],
   "source": [
    "# making derived features [HYPOTHESIS 1]\n",
    "def make_der_df(df):\n",
    "    df_der = pd.DataFrame()\n",
    "    df_der[\"ALPHA\"]           = df[\"ALPHA\"]\n",
    "    df_der[\"METAL\"]           = df[\"METAL\"]\n",
    "    df_der[\"MS_TOT\"]          = df[\"MST2\"] + df[\"MST1\"]                                # MST2+MST1\n",
    "    df_der[\"MS_RATIO\"]        = df[\"MST2\"] / df[\"MST1\"]                                # MST2/MST1\n",
    "    df_der[\"M_LOSS\"]          = 1 - ((df[\"MBH2\"] + df[\"MBH1\"]) / df_der[\"MS_TOT\"])     # 1-[(MBH2+MBH1)/(MST2+MST1)]\n",
    "    df_der[\"M_RATIO_LOSS\"]    = 1 - ((df[\"MBH2\"] / df[\"MBH1\"]) / df_der[\"MS_RATIO\"])   # 1-[(MBH2/MBH1)/(MST2/MST1)]\n",
    "    df_der[\"INITIAL_DENSITY\"] = df_der[\"MS_TOT\"] / (df[\"AXIS\"] ** 2)                   # (MST2+MST1)/(AXIS^2)\n",
    "    df_der[\"ISCE\"]            = df[\"ISCE\"]\n",
    "    return df_der\n",
    "    #\n",
    "#####"
   ]
  },
  {
   "cell_type": "code",
   "execution_count": 6,
   "id": "63d2e99c-0a63-40e8-8f78-dd0fc6ae9b0a",
   "metadata": {},
   "outputs": [],
   "source": [
    "def making_plot(columns, values, title, xlabel, ylabel):\n",
    "    plt.figure(figsize = (10, 6))\n",
    "    plt.bar(columns, values, color = 'skyblue')\n",
    "    plt.title(title)\n",
    "    plt.xlabel(xlabel)\n",
    "    plt.ylabel(ylabel)\n",
    "    plt.xticks(rotation = 45)\n",
    "    plt.show()\n",
    "    #\n",
    "#####"
   ]
  },
  {
   "cell_type": "code",
   "execution_count": 7,
   "id": "37186a86-5434-44da-893f-325f9b2a5cdd",
   "metadata": {},
   "outputs": [],
   "source": [
    "# reading original features\n",
    "df = [make_df(dir, file) for dir in os.listdir(\"data\") for file in os.listdir(\"data/\" + dir)]\n",
    "df = pd.concat(df, ignore_index = True)\n",
    "#\n",
    "# making derived features\n",
    "df_der = make_der_df(df)\n",
    "#\n",
    "#\n",
    "# columns\n",
    "# [ORIGINAL FEATURES]\n",
    "original_columns   = [\"ALPHA\", \"METAL\", \"MST1\", \"MST2\", \"MBH1\", \"MBH2\", \"TIME\", \"AXIS\", \"ECCE\"]\n",
    "#\n",
    "# [DERIVED FEATURES - HYPOTHESIS 1]\n",
    "der_hypo_1_columns = df_der.columns[:-1]\n",
    "#\n",
    "# [DERIVED FEATURES - HYPOTHESIS 2]\n",
    "der_hypo_2_columns = [\"ALPHA\",             # as hyp 1\n",
    "                      \"METAL\",             # as hyp 1\n",
    "                      \"MS_TOT\",            # as hyp 1\n",
    "                      \"MS_RATIO\",          # as hyp 1\n",
    "                      \"MS_RATIO_INV\",      # MS_RATIO ** (-1)\n",
    "                      \"MBH_RATIO\",         # MBH2 / MBH1\n",
    "                      \"M_LOSS\",            # as hyp 1\n",
    "                      \"M_RATIO_LOSS\",      # as hyp 1\n",
    "                      \"INITIAL_DENSITY\"]   # as hyp 1\n",
    "#\n",
    "#\n",
    "# original features\n",
    "x0 = df[original_columns]\n",
    "y0 = df[\"ISCE\"]\n",
    "#\n",
    "# derived features\n",
    "x1 = df_der[der_hypo_1_columns]\n",
    "y1 = df_der[\"ISCE\"]"
   ]
  },
  {
   "cell_type": "code",
   "execution_count": 8,
   "id": "3efa67a1-64c8-4b72-a4c6-1a93b4976c89",
   "metadata": {},
   "outputs": [
    {
     "data": {
      "text/html": [
       "<div>\n",
       "<style scoped>\n",
       "    .dataframe tbody tr th:only-of-type {\n",
       "        vertical-align: middle;\n",
       "    }\n",
       "\n",
       "    .dataframe tbody tr th {\n",
       "        vertical-align: top;\n",
       "    }\n",
       "\n",
       "    .dataframe thead th {\n",
       "        text-align: right;\n",
       "    }\n",
       "</style>\n",
       "<table border=\"1\" class=\"dataframe\">\n",
       "  <thead>\n",
       "    <tr style=\"text-align: right;\">\n",
       "      <th></th>\n",
       "      <th>ALPHA</th>\n",
       "      <th>METAL</th>\n",
       "      <th>MST1</th>\n",
       "      <th>MST2</th>\n",
       "      <th>MBH1</th>\n",
       "      <th>MBH2</th>\n",
       "      <th>TIME</th>\n",
       "      <th>AXIS</th>\n",
       "      <th>ECCE</th>\n",
       "    </tr>\n",
       "  </thead>\n",
       "  <tbody>\n",
       "    <tr>\n",
       "      <th>0</th>\n",
       "      <td>0.5</td>\n",
       "      <td>0.0002</td>\n",
       "      <td>24.1323</td>\n",
       "      <td>17.1893</td>\n",
       "      <td>9.5692</td>\n",
       "      <td>5.0020</td>\n",
       "      <td>141.1783</td>\n",
       "      <td>5.1703</td>\n",
       "      <td>0.258940</td>\n",
       "    </tr>\n",
       "    <tr>\n",
       "      <th>1</th>\n",
       "      <td>0.5</td>\n",
       "      <td>0.0002</td>\n",
       "      <td>69.5474</td>\n",
       "      <td>64.3689</td>\n",
       "      <td>28.4847</td>\n",
       "      <td>39.1186</td>\n",
       "      <td>9.2023</td>\n",
       "      <td>6.4328</td>\n",
       "      <td>0.055966</td>\n",
       "    </tr>\n",
       "    <tr>\n",
       "      <th>2</th>\n",
       "      <td>0.5</td>\n",
       "      <td>0.0002</td>\n",
       "      <td>106.6977</td>\n",
       "      <td>41.0318</td>\n",
       "      <td>39.9392</td>\n",
       "      <td>38.2094</td>\n",
       "      <td>2223.2639</td>\n",
       "      <td>35.8880</td>\n",
       "      <td>0.041435</td>\n",
       "    </tr>\n",
       "    <tr>\n",
       "      <th>3</th>\n",
       "      <td>0.5</td>\n",
       "      <td>0.0002</td>\n",
       "      <td>74.3594</td>\n",
       "      <td>54.3256</td>\n",
       "      <td>30.1523</td>\n",
       "      <td>37.4020</td>\n",
       "      <td>8.7628</td>\n",
       "      <td>6.0720</td>\n",
       "      <td>0.041342</td>\n",
       "    </tr>\n",
       "    <tr>\n",
       "      <th>4</th>\n",
       "      <td>0.5</td>\n",
       "      <td>0.0002</td>\n",
       "      <td>116.6000</td>\n",
       "      <td>63.2642</td>\n",
       "      <td>41.9604</td>\n",
       "      <td>42.9817</td>\n",
       "      <td>2636.2197</td>\n",
       "      <td>40.0410</td>\n",
       "      <td>0.079504</td>\n",
       "    </tr>\n",
       "    <tr>\n",
       "      <th>...</th>\n",
       "      <td>...</td>\n",
       "      <td>...</td>\n",
       "      <td>...</td>\n",
       "      <td>...</td>\n",
       "      <td>...</td>\n",
       "      <td>...</td>\n",
       "      <td>...</td>\n",
       "      <td>...</td>\n",
       "      <td>...</td>\n",
       "    </tr>\n",
       "    <tr>\n",
       "      <th>2963577</th>\n",
       "      <td>5.0</td>\n",
       "      <td>0.0200</td>\n",
       "      <td>49.5343</td>\n",
       "      <td>41.7016</td>\n",
       "      <td>4.9807</td>\n",
       "      <td>4.6760</td>\n",
       "      <td>10772.9297</td>\n",
       "      <td>11.8280</td>\n",
       "      <td>0.251980</td>\n",
       "    </tr>\n",
       "    <tr>\n",
       "      <th>2963578</th>\n",
       "      <td>5.0</td>\n",
       "      <td>0.0200</td>\n",
       "      <td>89.2801</td>\n",
       "      <td>62.1861</td>\n",
       "      <td>7.3304</td>\n",
       "      <td>5.1195</td>\n",
       "      <td>16.0614</td>\n",
       "      <td>462.4200</td>\n",
       "      <td>0.999370</td>\n",
       "    </tr>\n",
       "    <tr>\n",
       "      <th>2963579</th>\n",
       "      <td>5.0</td>\n",
       "      <td>0.0200</td>\n",
       "      <td>36.4361</td>\n",
       "      <td>27.1551</td>\n",
       "      <td>4.0565</td>\n",
       "      <td>3.2400</td>\n",
       "      <td>2200.2712</td>\n",
       "      <td>212.1500</td>\n",
       "      <td>0.993170</td>\n",
       "    </tr>\n",
       "    <tr>\n",
       "      <th>2963580</th>\n",
       "      <td>5.0</td>\n",
       "      <td>0.0200</td>\n",
       "      <td>73.1220</td>\n",
       "      <td>37.7591</td>\n",
       "      <td>8.2607</td>\n",
       "      <td>4.8831</td>\n",
       "      <td>6547.9141</td>\n",
       "      <td>302.6300</td>\n",
       "      <td>0.988970</td>\n",
       "    </tr>\n",
       "    <tr>\n",
       "      <th>2963581</th>\n",
       "      <td>5.0</td>\n",
       "      <td>0.0200</td>\n",
       "      <td>43.1693</td>\n",
       "      <td>38.1374</td>\n",
       "      <td>7.0311</td>\n",
       "      <td>4.7031</td>\n",
       "      <td>28.6069</td>\n",
       "      <td>746.9300</td>\n",
       "      <td>0.999540</td>\n",
       "    </tr>\n",
       "  </tbody>\n",
       "</table>\n",
       "<p>2963582 rows × 9 columns</p>\n",
       "</div>"
      ],
      "text/plain": [
       "         ALPHA   METAL      MST1     MST2     MBH1     MBH2        TIME  \\\n",
       "0          0.5  0.0002   24.1323  17.1893   9.5692   5.0020    141.1783   \n",
       "1          0.5  0.0002   69.5474  64.3689  28.4847  39.1186      9.2023   \n",
       "2          0.5  0.0002  106.6977  41.0318  39.9392  38.2094   2223.2639   \n",
       "3          0.5  0.0002   74.3594  54.3256  30.1523  37.4020      8.7628   \n",
       "4          0.5  0.0002  116.6000  63.2642  41.9604  42.9817   2636.2197   \n",
       "...        ...     ...       ...      ...      ...      ...         ...   \n",
       "2963577    5.0  0.0200   49.5343  41.7016   4.9807   4.6760  10772.9297   \n",
       "2963578    5.0  0.0200   89.2801  62.1861   7.3304   5.1195     16.0614   \n",
       "2963579    5.0  0.0200   36.4361  27.1551   4.0565   3.2400   2200.2712   \n",
       "2963580    5.0  0.0200   73.1220  37.7591   8.2607   4.8831   6547.9141   \n",
       "2963581    5.0  0.0200   43.1693  38.1374   7.0311   4.7031     28.6069   \n",
       "\n",
       "             AXIS      ECCE  \n",
       "0          5.1703  0.258940  \n",
       "1          6.4328  0.055966  \n",
       "2         35.8880  0.041435  \n",
       "3          6.0720  0.041342  \n",
       "4         40.0410  0.079504  \n",
       "...           ...       ...  \n",
       "2963577   11.8280  0.251980  \n",
       "2963578  462.4200  0.999370  \n",
       "2963579  212.1500  0.993170  \n",
       "2963580  302.6300  0.988970  \n",
       "2963581  746.9300  0.999540  \n",
       "\n",
       "[2963582 rows x 9 columns]"
      ]
     },
     "execution_count": 8,
     "metadata": {},
     "output_type": "execute_result"
    }
   ],
   "source": [
    "x0"
   ]
  },
  {
   "cell_type": "code",
   "execution_count": null,
   "id": "ff67582d-d218-4fb6-ae99-51f9a0026116",
   "metadata": {},
   "outputs": [],
   "source": []
  },
  {
   "cell_type": "code",
   "execution_count": null,
   "id": "982bb6f1-0531-44ec-a454-8125aca220fd",
   "metadata": {},
   "outputs": [],
   "source": []
  },
  {
   "cell_type": "markdown",
   "id": "902513c8-f73a-4480-ba7d-6e89f4c4b661",
   "metadata": {},
   "source": [
    "# Test"
   ]
  },
  {
   "cell_type": "code",
   "execution_count": 9,
   "id": "59d2361d-8268-40f0-9fe4-083ced7da5b6",
   "metadata": {},
   "outputs": [],
   "source": [
    "\n",
    "from sklearn.model_selection import train_test_split\n",
    "#from sklearn.ensemble import RandomForestClassifier\n",
    "#from sklearn import metrics\n",
    "#import time"
   ]
  },
  {
   "cell_type": "code",
   "execution_count": 10,
   "id": "a04d0033-42fe-44cf-8221-7abdda0cd569",
   "metadata": {},
   "outputs": [],
   "source": [
    "#data_df = df.filter(['ALPHA','METAL','MST1', 'MST2', 'MBH1', 'MBH2','TIME','AXIS','ECCE'], axis=1)\n",
    "\n",
    "#target_df = df.filter(['ISCE'], axis=1)"
   ]
  },
  {
   "cell_type": "code",
   "execution_count": 11,
   "id": "8e1e7c92-7773-40b5-bdaa-01e999681608",
   "metadata": {},
   "outputs": [],
   "source": [
    "#X = data_df\n",
    "#y = target_df \n",
    "\n",
    "x0, y0, x1, y1 = reading_all_datasets()\n",
    "\n",
    "X = x0\n",
    "y = y0\n",
    "# Splitting arrays or matrices into random train and test subsets\n",
    "\n",
    "# i.e. 70 % training dataset and 30 % test datasets\n",
    "X_train, X_test, y_train, y_test = train_test_split(X, y, test_size = 0.30)"
   ]
  },
  {
   "cell_type": "code",
   "execution_count": 12,
   "id": "3cf428df-2f33-4a80-ad39-448b19e45de3",
   "metadata": {},
   "outputs": [],
   "source": [
    "#making_plot(X.columns, importances, \"Feature Importance Based on Recursive Feature Elimination (RFE)\", \"Features\", \"Importance\")\n",
    "\n",
    "def draw_plot(columns, values, title, xlabel, ylabel, log):\n",
    "    plt.figure(figsize = (10, 6))\n",
    "    plt.bar(columns, values, color = 'skyblue', log=log)\n",
    "    plt.title(title)\n",
    "    plt.xlabel(xlabel)\n",
    "    plt.ylabel(ylabel)\n",
    "    plt.xticks(rotation = 45)\n",
    "    plt.grid()\n",
    "    plt.show()"
   ]
  },
  {
   "cell_type": "markdown",
   "id": "c58a7525-0596-4c78-b61d-64038a302e42",
   "metadata": {},
   "source": [
    "-"
   ]
  },
  {
   "cell_type": "markdown",
   "id": "85d69dd9-304f-435f-975a-3c97bb2e10f1",
   "metadata": {},
   "source": [
    "-"
   ]
  },
  {
   "cell_type": "markdown",
   "id": "b5c5371c-cd86-4743-8d0d-9352c92415d7",
   "metadata": {},
   "source": [
    "-"
   ]
  },
  {
   "cell_type": "markdown",
   "id": "d0ed3789-8384-4e8b-bc8e-aa938af91fa6",
   "metadata": {},
   "source": [
    "# Lasso "
   ]
  },
  {
   "cell_type": "markdown",
   "id": "fc984be2-a80e-476e-839e-4bdf94411ff9",
   "metadata": {},
   "source": [
    "Lasso regression is a modified form of linear regression. It uses the following formula for calculation:\n",
    "\n",
    "$$\\frac{1}{2N_{training}} \\sum_{i=1}^{N_{training}} \\left( y_{real}^{(i)} -  y_{real}^{(i)} \\right)^2 + \\alpha \\sum_{j=1}^{n} a_j $$\n",
    "\n",
    "where $a_j$ is the coefficient of the j-th feature. The final term is called $l1$ penalty and $\\alpha$ is a hyperparameter that tunes the intensity of this penalty term. The higher the coefficient of a feature, the higher the value of the cost function. So, the idea of Lasso regression is to optimize the cost function reducing the absolute values of the coefficients.\n",
    "\n",
    "The $\\alpha$ hyperparameter value is found using a cross-validation approach.\n",
    "\n",
    "Trying to minimize the cost function, Lasso regression will automatically select those features that are useful, discarding the useless or redundant features. In Lasso regression, discarding a feature will make its coefficient equal to 0.\n",
    "\n",
    "So, the idea of using Lasso regression for feature selection purposeis that,e: we fit a Lasso regression on a scaled version of our dataset and we consider only those features that have a coefficient different from 0. "
   ]
  },
  {
   "cell_type": "code",
   "execution_count": 13,
   "id": "015bcd8f-211e-40e0-9568-ac5c80667218",
   "metadata": {},
   "outputs": [],
   "source": [
    "from sklearn.linear_model import Lasso\n",
    "from sklearn.model_selection import GridSearchCV, KFold"
   ]
  },
  {
   "cell_type": "code",
   "execution_count": 14,
   "id": "b60377bc-13f9-4fc2-96fd-40caa2707306",
   "metadata": {},
   "outputs": [],
   "source": [
    "def Lasso_test():\n",
    "        # parameters to be tested on GridSearchCV\n",
    "        params = {\"alpha\":np.arange(0.00001, 10, 500)}\n",
    "        \n",
    "        # finding 'alpha' using k-fold cross-validation approach\n",
    "        kf = KFold(n_splits=5, shuffle=True, random_state=42)\n",
    "        \n",
    "        # Initializing the Model\n",
    "        lasso = Lasso()\n",
    "        \n",
    "        # GridSearchCV with model, params and folds.\n",
    "        lasso_cv=GridSearchCV(lasso, param_grid=params, cv=kf)\n",
    "        lasso_cv.fit(X, y)\n",
    "        #print(\"Best Params {}\".format(lasso_cv.best_params_))\n",
    "\n",
    "        alpha = lasso_cv.best_params_['alpha']\n",
    "        \n",
    "        # calling the model with the best parameter\n",
    "        lasso1 = Lasso(alpha)\n",
    "        #lasso1 = Lasso(alpha=0.0005)\n",
    "        lasso1.fit(X_train, y_train)\n",
    "        \n",
    "        # Using np.abs() to make coefficients positive.  \n",
    "        lasso1_coef = np.abs(lasso1.coef_)\n",
    "\n",
    "        return lasso1_coef"
   ]
  },
  {
   "cell_type": "code",
   "execution_count": 15,
   "id": "3f1301e7-03b1-4084-8c68-20ba950ef5b6",
   "metadata": {},
   "outputs": [],
   "source": [
    "#Calling the lasso method to get the feature importances\n",
    "importances_l = Lasso_test()"
   ]
  },
  {
   "cell_type": "code",
   "execution_count": 16,
   "id": "375ae1c6-894c-46a4-a542-c18496b948ed",
   "metadata": {},
   "outputs": [
    {
     "data": {
      "image/png": "[encoded data removed]",
      "text/plain": [
       "<Figure size 1000x600 with 1 Axes>"
      ]
     },
     "metadata": {},
     "output_type": "display_data"
    }
   ],
   "source": [
    "# plotting the Column Names and Importance of Columns.\n",
    "#making_plot(X.columns, importances, \"Feature Importance Based on Lasso\", \"Features\", \"Importance\")\n",
    "draw_plot(X.columns, importances_l, \"Feature Importance Based on Lasso\", \"Features\", \"Importance\", True) #log = true\n",
    "\n",
    "#draw_plot(X.columns, importances, \"Feature Importance Based on Lasso\", \"Features\", \"Importance\", False) #log = false"
   ]
  },
  {
   "cell_type": "markdown",
   "id": "97c3994c-74ac-4ebd-8b39-c37abc0ea4c6",
   "metadata": {},
   "source": [
    "-"
   ]
  },
  {
   "cell_type": "markdown",
   "id": "a70c49f8-d70d-496c-8c98-038d85c408ec",
   "metadata": {},
   "source": [
    "-"
   ]
  },
  {
   "cell_type": "markdown",
   "id": "2ce3300a-0fef-4231-aeea-b2f8a255f0c3",
   "metadata": {},
   "source": [
    "-"
   ]
  },
  {
   "cell_type": "markdown",
   "id": "416295ff-e9e6-4fc2-a106-034fbe832ce9",
   "metadata": {},
   "source": [
    "# Permutation"
   ]
  },
  {
   "cell_type": "markdown",
   "id": "01667eba-73d5-4dc4-a37c-5e3d3b7f20c9",
   "metadata": {},
   "source": [
    "The idea behind permutation feature importance is that, the feature importance is calculated by noticing the increase or decrease in error when we permute the values of a feature. If permuting the values causes a huge change in the error, it means the feature is important for our model. \n",
    "\n",
    "The best thing about this method is that it can be applied to every machine learning model. Its approach is model agnostic, which gives you a lot of freedom. There are no complex mathematical formulas behind it. The permutation feature importance is based on an algorithm that works as follows:\n",
    "<br> 1. Calculate the mean squared error with the original values.\n",
    "<br> 2. Shuffle the values for that features and make predictions.\n",
    "<br> 3. Calculate the mean squared error with the shuffled values.\n",
    "<br> 4. Compare the differences between them.\n",
    "<br> 5. Reverse the shuffling to get the original data back. \n",
    "<br> 6. Redo steps 2-5 using the next attribute, until the importance for every feature is determined.\n",
    "<br> 7. Sort the differences in descending order to get features with most to least importance.\n",
    "\n",
    "This technique measures the contribution of a feature by measuring the changes in the model performance after randomly shuffling its values. This approach is straightforward but can be computationally intensive for large datasets. \n",
    "\n",
    "In our code, we used a scikit-learn function where feature importance is evaluated in a predictive model by the impact on the model’s performance (here, utilizing accuracy scoring) when the values of each feature are randomly shuffled. The <i>n_repeats</i> parameter specifies the number of times each feature’s values are randomly shuffled to assess its impact on the model’s performance. In our case, each feature will be permuted 30 times, and the model’s performance will be evaluated after each permutation, hence the aggregate calculation of the mean and standard deviation of the importance values. However, selecting the value of <i>n_repeats</i> has computational consequences as higher values can highlight precise and robust importance calculations but higher computational cost."
   ]
  },
  {
   "cell_type": "code",
   "execution_count": 17,
   "id": "8c8378d7-adec-42ea-95a2-aaa5cc04b14b",
   "metadata": {},
   "outputs": [],
   "source": [
    "from sklearn.linear_model import Ridge\n",
    "from sklearn.inspection import permutation_importance\n",
    "\n",
    "def permutation_test():\n",
    "    model = Ridge(alpha=1e-2).fit(X_train, y_train)\n",
    "    model.score(X_test, y_test)\n",
    "\n",
    "    r = permutation_importance(model, X_test, y_test, n_repeats=30, random_state=0)\n",
    "\n",
    "    return r.importances_mean"
   ]
  },
  {
   "cell_type": "code",
   "execution_count": null,
   "id": "831bd06a-fb6e-439d-9ce2-b25410682b27",
   "metadata": {},
   "outputs": [],
   "source": [
    "#Calling the permutation method to get the feature importances\n",
    "importances_p = permutation_test()"
   ]
  },
  {
   "cell_type": "code",
   "execution_count": null,
   "id": "6b52794b-da04-4b31-83f2-42e74b4e8b4f",
   "metadata": {},
   "outputs": [],
   "source": [
    "# plotting the Column Names and Importance of Columns.\n",
    "#making_plot(X.columns, importances, \"Feature Importance Based on Permutation\", \"Features\", \"Importance\")\n",
    "draw_plot(X.columns, importances_p, \"Feature Importance Based on Permutation\", \"Features\", \"Importance\", True) #log = true\n",
    "\n",
    "#draw_plot(X.columns, importances, \"Feature Importance Based on Permutation\", \"Features\", \"Importance\", False) #log = false"
   ]
  },
  {
   "cell_type": "markdown",
   "id": "1bed7b0e-8f8e-4dad-b939-b0322a6ec28d",
   "metadata": {},
   "source": [
    "-"
   ]
  },
  {
   "cell_type": "markdown",
   "id": "be903235-6343-44d4-bca5-f9f8a15c1eb7",
   "metadata": {},
   "source": [
    "-"
   ]
  },
  {
   "cell_type": "markdown",
   "id": "071ee691-e752-49aa-8e2c-16ac37cf2832",
   "metadata": {},
   "source": [
    "-"
   ]
  },
  {
   "cell_type": "markdown",
   "id": "477d5e81-1d57-46ae-ad4b-b5e129d56ea9",
   "metadata": {},
   "source": [
    "# Single-Variable Prediction"
   ]
  },
  {
   "cell_type": "markdown",
   "id": "71ebff06-8fbe-4ab3-8da3-42c137e2ce49",
   "metadata": {},
   "source": [
    "Single-variable prediction is a method of feature importance that measures the performance of a model when only one feature is used to make predictions. \n",
    "\n",
    "This can be done by training a model using only one feature and comparing its performance to the performance of the model when all features are used. The feature that results in the highest performance when used alone is considered the most important.\n",
    "\n",
    "It should be noted that the importance of a feature may depend on the context in which it is used – for example, a feature that is important in isolation may not be so important when considered in combination with other features.\n",
    "\n",
    "\n",
    "Single-variable prediction entails training an ML model for each individual feature to understand how well the variable is able to predict the target value. It consists of building a model with the individual features, evaluating across respective metrics, and observing how significant each feature is to predicting the target. It provides simplicity and intuitiveness, however, this method doesn’t capture the intrinsic interactions that exist between features to create a combined impact on the model."
   ]
  },
  {
   "cell_type": "code",
   "execution_count": null,
   "id": "929d5b90-0553-46f0-98a7-bcc52b552614",
   "metadata": {},
   "outputs": [],
   "source": [
    "from sklearn.feature_selection import SelectKBest, f_regression\n",
    "\n",
    "def SVP_test():\n",
    "    # Applying SelectKBest with ANOVA F-value\n",
    "    selector = SelectKBest(score_func=f_regression, k='all')\n",
    "    selector.fit(X, y)\n",
    "    \n",
    "    # Displaying scores for each feature\n",
    "    #feature_scores = pd.DataFrame({'Feature': X.columns, 'Score': selector.scores_})\n",
    "    #print(feature_scores.sort_values(by='Score', ascending=False))\n",
    "    \n",
    "    return selector.scores_"
   ]
  },
  {
   "cell_type": "code",
   "execution_count": null,
   "id": "163d7c7c-e0df-43a6-9036-cac367f01810",
   "metadata": {},
   "outputs": [],
   "source": [
    "#Calling the Single-Variable Prediction method to get the feature importances\n",
    "importances_svp = SVP_test()"
   ]
  },
  {
   "cell_type": "code",
   "execution_count": null,
   "id": "3ed0a244-41b5-40ff-8ebe-c086c978cbdb",
   "metadata": {},
   "outputs": [],
   "source": [
    "# plotting the Column Names and Importance of Columns.\n",
    "#making_plot(X.columns, importances, \"Feature Importance Based on Single-Variable Prediction\", \"Features\", \"Importance\")\n",
    "draw_plot(X.columns, importances_svp, \"Feature Importance Based on Single-Variable Prediction\", \"Features\", \"Importance\", True) #log = true\n",
    "\n",
    "#draw_plot(X.columns, importances, \"Feature Importance Based on Single-Variable Prediction\", \"Features\", \"Importance\", False) #log = false"
   ]
  },
  {
   "cell_type": "markdown",
   "id": "fa4a2718-9c51-40ef-9e04-917ad9ffcc17",
   "metadata": {},
   "source": [
    "-"
   ]
  },
  {
   "cell_type": "markdown",
   "id": "53edd32e-8e5a-4f1b-b85e-e275e26efdfd",
   "metadata": {},
   "source": [
    "-"
   ]
  },
  {
   "cell_type": "markdown",
   "id": "53842340-4d5e-4c10-8a29-2601cb5c333c",
   "metadata": {},
   "source": [
    "-"
   ]
  },
  {
   "cell_type": "markdown",
   "id": "d1e35a71-fb9d-4262-a454-494c8061053c",
   "metadata": {},
   "source": [
    "# Recursive Feature Elimination (RFE)"
   ]
  },
  {
   "cell_type": "markdown",
   "id": "7ac98941-b07f-454a-813a-9a9b0108e6da",
   "metadata": {},
   "source": [
    "RFE is a feature selection method that iteratively evaluates the importance of features and removes the least important ones until the desired number remains. It uses the model’s internal feature importance measures to guide the elimination process.\n",
    "<br> 1. Train the model on the full dataset.\n",
    "<br> 2. Rank features based on their importance scores (in our aprocach these are obtained either from the coefficients of a linear regression).\n",
    "<br> 3. Remove the least important feature(s) and retrain the model.\n",
    "<br> 4. Repeat until a stopping criterion is met, such as reaching a desired number of features or observing a performance drop.\n",
    "\n",
    "Importantly, in RFE, higher ranking values denote lower importance."
   ]
  },
  {
   "cell_type": "code",
   "execution_count": null,
   "id": "ce7a263a-a11b-4092-a4d5-139aa5982fd1",
   "metadata": {},
   "outputs": [],
   "source": [
    "from sklearn.feature_selection import RFE\n",
    "from sklearn.linear_model import LinearRegression\n",
    "\n",
    "def RFE_test():\n",
    "    # Initialize the model (LinearRegression here, but you can use others)\n",
    "    model = LinearRegression()\n",
    "    \n",
    "    # Applying RFE\n",
    "    rfe = RFE(estimator=model, n_features_to_select=5)  # Change n_features_to_select as needed\n",
    "    rfe.fit(X, y)\n",
    "    \n",
    "    # Displaying ranking of features\n",
    "    #feature_ranking = pd.DataFrame({'Feature': X.columns, 'Ranking': rfe.ranking_})\n",
    "    #print(feature_ranking.sort_values(by='Ranking'))\n",
    "    \n",
    "    return rfe.ranking_"
   ]
  },
  {
   "cell_type": "code",
   "execution_count": null,
   "id": "c6a03b1e-f427-44c7-81f9-e09c91d4af22",
   "metadata": {},
   "outputs": [],
   "source": [
    "#Calling the permutation method to get the feature importances\n",
    "ranking_rfe = RFE_test()"
   ]
  },
  {
   "cell_type": "code",
   "execution_count": null,
   "id": "6abef462-444a-4e4b-8c29-5ff5f5ba9564",
   "metadata": {},
   "outputs": [],
   "source": [
    "#importances"
   ]
  },
  {
   "cell_type": "code",
   "execution_count": null,
   "id": "af9ee3ea-30f5-4736-a0ff-963ee7663b6d",
   "metadata": {},
   "outputs": [],
   "source": [
    "# plotting the Column Names and Importance of Columns.\n",
    "#making_plot(X.columns, importances, \"Feature Importance Based on Recursive Feature Elimination (RFE)\", \"Features\", \"Importance\")\n",
    "draw_plot(X.columns, ranking_rfe, \"Feature Ranking Based on Recursive Feature Elimination (RFE)\", \"Features\", \"Importance\", False) #log = true\n",
    "\n",
    "#draw_plot(X.columns, importances, \"Feature Importance Based on Recursive Feature Elimination (RFE)\", \"Features\", \"Importance\", False) #log = false"
   ]
  },
  {
   "cell_type": "markdown",
   "id": "ae033c69-cdce-4b9e-8d84-ba6cb4e93428",
   "metadata": {},
   "source": [
    "-"
   ]
  },
  {
   "cell_type": "markdown",
   "id": "9258afd9-97e5-402d-b300-4572fe45c1b2",
   "metadata": {},
   "source": [
    "-"
   ]
  },
  {
   "cell_type": "markdown",
   "id": "aa69e5b0-6bb6-41a1-9ed6-d1548255ae96",
   "metadata": {},
   "source": [
    "-"
   ]
  },
  {
   "cell_type": "markdown",
   "id": "384d5cc4-3fbb-4991-b913-85fad9511571",
   "metadata": {},
   "source": [
    "# Principal Component Analysis(PCA)"
   ]
  },
  {
   "cell_type": "markdown",
   "id": "97257b41-4fe9-455a-b4b8-325232e272f0",
   "metadata": {},
   "source": [
    "PCA is a dimensionality reduction that identifies important relationships in our data, transforms the existing data based on these relationships, and then quantifies the importance of these relationships so we can keep the most important relationships and drop the others. To remember this definition, we can break it down into four steps:\n",
    "<br>1. We identify the relationship among features through a Covariance Matrix.\n",
    "<br>2. Through the linear transformation or eigendecomposition of the Covariance Matrix, we get eigenvectors and eigenvalues.\n",
    "<br>3. Then we transform our data using Eigenvectors into principal components.\n",
    "<br>4. Lastly, we quantify the importance of these relationships using Eigenvalues and keep the important principal components.\n",
    "\n",
    "For example, below the first principal component (PC1) is mostly aligned with Time, which has the highest weight of 0.999 in absolute value. This does not imply that Time is the most imporant feature rather it means while re-calculating the dataset for PC1, Time has the largest impact. \n",
    "\n",
    "Because, Importantly, PCA is not a feature selection technique. Rather, it combines the features. Because each PC is a weighted additive combination of all the columns in the original dataset. However, the PCs are formed in such a way that the first Principal Component (PC1) explains more variance in original data compared to PC2. Likewise, PC2 explains more than PC3, and so on."
   ]
  },
  {
   "cell_type": "code",
   "execution_count": null,
   "id": "f4891c84-117e-48cc-9264-09bdea1aa738",
   "metadata": {},
   "outputs": [],
   "source": [
    "from sklearn.decomposition import PCA\n",
    "\n",
    "def PCA_test():\n",
    "    # Applying PCA\n",
    "    pca = PCA(n_components=2)  # Adjust n_components as needed\n",
    "    principal_components = pca.fit_transform(X)\n",
    "    \n",
    "    # Displaying explained variance ratio of each component\n",
    "    explained_variance = pd.DataFrame({'Component': range(1, pca.n_components_ + 1), 'Explained Variance': pca.explained_variance_ratio_})\n",
    "    print(explained_variance)\n",
    "\n",
    "    component_weights = pca.components_\n",
    "    #print(\"Component Weights:\\n\", component_weights)\n",
    "    \n",
    "    feature_weights_mapping = {}\n",
    "    for i, component in enumerate(component_weights):\n",
    "        component_feature_weights = zip(X.columns, component)\n",
    "        feature_weights_mapping[f\"Component {i+1}\"] = component_feature_weights\n",
    "        #sorted(component_feature_weights, key=lambda x: abs(x[1]), reverse=True)\n",
    "    \n",
    "    # Accessing feature names contributing to Component 1\n",
    "    #print(\"Feature names contributing to Component 1:\")\n",
    "    feat1 = []\n",
    "    wght1 = []\n",
    "    for feature, weight in feature_weights_mapping[\"Component 1\"]:\n",
    "        feat1.append(feature)\n",
    "        wght1.append(weight)\n",
    "        #print(f\"{feature}: {weight}\")\n",
    "    \n",
    "    # Accessing feature names contributing to Component 2\n",
    "    #print(\"Feature names contributing to Component 2:\")\n",
    "    feat2 = []\n",
    "    wght2 = []\n",
    "    for feature, weight in feature_weights_mapping[\"Component 2\"]:\n",
    "        feat2.append(feature)\n",
    "        wght2.append(weight)\n",
    "        #print(f\"{feature}: {weight}\")\n",
    "\n",
    "    return feat1, wght1, feat2, wght2"
   ]
  },
  {
   "cell_type": "code",
   "execution_count": null,
   "id": "d46a59ce-5697-4378-922d-5a267e7ae0fc",
   "metadata": {},
   "outputs": [],
   "source": [
    "#Calling the PCA method to get the features(as f1 and f2) and their corresponding importances(as weights w1 and w2)\n",
    "# along the first and second principle componants (PCA1 & PCA2)\n",
    "\n",
    "f1, w1, f2, w2 = PCA_test()"
   ]
  },
  {
   "cell_type": "code",
   "execution_count": null,
   "id": "5ae974e5-8f30-4b31-a2cf-3c46b1fb77bd",
   "metadata": {},
   "outputs": [],
   "source": [
    "# plotting the Column Names and Importance of Columns.\n",
    "\n",
    "#making_plot(f1, w1, \"Feature Weight Based on PCA along Component 1\", \"Features\", \"Importance\")\n",
    "#making_plot(f2, w2, \"Feature Weight Based on PCA along Component 2\", \"Features\", \"Importance\")\n",
    "\n",
    "draw_plot(f1, w1, \"Feature Weight Based on PCA along Component 1\", \"Features\", \"Importance\", True) #log = true\n",
    "\n",
    "#draw_plot(f1, w1, \"Feature Weight Based on PCA along Component 1\", \"Features\", \"Importance\", False) #log = false"
   ]
  },
  {
   "cell_type": "code",
   "execution_count": null,
   "id": "7e1ab47e-2a72-4a70-8746-f7c19feb9aa7",
   "metadata": {},
   "outputs": [],
   "source": [
    "draw_plot(f2, w2, \"Feature Weight Based on PCA along Component 2\", \"Features\", \"Importance\", True) #log = true\n",
    "\n",
    "#draw_plot(f2, w2, \"Feature Weight Based on PCA along Component 2\", \"Features\", \"Importance\", False) #log = false"
   ]
  },
  {
   "cell_type": "markdown",
   "id": "a82d91d7-a8dd-4265-953b-b4e4112f3bd9",
   "metadata": {},
   "source": [
    "-"
   ]
  },
  {
   "cell_type": "markdown",
   "id": "97d7d68e-bb42-4784-bc55-06de89e035c8",
   "metadata": {},
   "source": [
    "-"
   ]
  },
  {
   "cell_type": "markdown",
   "id": "355cb1f7-f612-4e97-80bc-1b0616e71d05",
   "metadata": {},
   "source": [
    "-"
   ]
  },
  {
   "cell_type": "markdown",
   "id": "c7188b33-c0b2-4b54-9020-7064b1f6b753",
   "metadata": {},
   "source": [
    "# Extreme Gradient Boosting (XGBoost)"
   ]
  },
  {
   "cell_type": "markdown",
   "id": "9327c8d6-2a87-4504-beed-9a81c1681616",
   "metadata": {},
   "source": [
    "A benefit of using gradient boosting is that after the boosted trees are constructed, it is relatively straightforward to retrieve importance scores for each attribute.\n",
    "\n",
    "Generally, importance provides a score that indicates how useful or valuable each feature was in the construction of the boosted decision trees within the model. The more an attribute is used to make key decisions with decision trees, the higher its relative importance.\n",
    "\n",
    "This importance is calculated explicitly for each attribute in the dataset, allowing attributes to be ranked and compared to each other.\n",
    "\n",
    "Importance is calculated for a single decision tree by the amount that each attribute split point improves the performance measure, weighted by the number of observations the node is responsible for. The performance measure may be the purity (Gini index) used to select the split points or another more specific error function.\n",
    "\n",
    "The feature importances are then averaged across all of the the decision trees within the model.\n",
    "\n",
    "The comparison between the XGBoost classifier and Random Forest is that although both of these methods use tree-based learners, their architecture and algorithms are fundamentally different, which results in differences in performance and accuracy. Specifically, XGBoost uses thee 'boosting' technique whresas Random Forest uses the 'bagging' technique."
   ]
  },
  {
   "cell_type": "code",
   "execution_count": null,
   "id": "8d4514bd-a59f-4c5f-aa84-ca43c39c3684",
   "metadata": {},
   "outputs": [],
   "source": [
    "#pip install xgboost"
   ]
  },
  {
   "cell_type": "code",
   "execution_count": null,
   "id": "7bb36fd8-8162-4c40-a0e0-015f345615b8",
   "metadata": {},
   "outputs": [],
   "source": [
    "from xgboost import XGBClassifier\n",
    "\n",
    "def xgboost_test():\n",
    "    model = XGBClassifier()\n",
    "    model.fit(X_train, y_train)\n",
    "    #importances = pd.DataFrame(data={\n",
    "     #   'Attribute': X_train.columns,\n",
    "      #  'Importance': model.feature_importances_\n",
    "    #})\n",
    "    return model.feature_importances_\n",
    "    #importances = importances.sort_values(by='Importance', ascending=False)"
   ]
  },
  {
   "cell_type": "code",
   "execution_count": null,
   "id": "2bdbe66d-6a88-441a-bafa-8b18c6818545",
   "metadata": {},
   "outputs": [],
   "source": [
    "#Calling the permutation method to get the feature importances\n",
    "importances_xgb = xgboost_test()"
   ]
  },
  {
   "cell_type": "code",
   "execution_count": null,
   "id": "ef7fe4d0-577b-404e-b0a9-3ba15f41ed3b",
   "metadata": {},
   "outputs": [],
   "source": [
    "# plotting the Column Names and Importance of Columns.\n",
    "#making_plot(X.columns, importances, \"Feature Importance Based on XGB Classifier\", \"Features\", \"Importance\")\n",
    "\n",
    "draw_plot(X.columns, importances_xgb, \"Feature Importance Based on XGB Classifier\", \"Features\", \"Importance\", True) #log = true\n",
    "\n",
    "#draw_plot(X.columns, importances, \"Feature Importance Based on XGB Classifier\", \"Features\", \"Importance\", False) #log = false"
   ]
  },
  {
   "cell_type": "markdown",
   "id": "58037b7f-d08f-4eee-968d-d1c9e6596048",
   "metadata": {},
   "source": [
    "-"
   ]
  },
  {
   "cell_type": "code",
   "execution_count": null,
   "id": "efa3d860-a29d-4cec-adc9-afd82b2f23cf",
   "metadata": {},
   "outputs": [],
   "source": []
  },
  {
   "cell_type": "code",
   "execution_count": null,
   "id": "4a89cf50-584b-42c2-b4fa-7aabfe420470",
   "metadata": {},
   "outputs": [],
   "source": []
  }
 ],
 "metadata": {
  "kernelspec": {
   "display_name": "Python 3 (ipykernel)",
   "language": "python",
   "name": "python3"
  },
  "language_info": {
   "codemirror_mode": {
    "name": "ipython",
    "version": 3
   },
   "file_extension": ".py",
   "mimetype": "text/x-python",
   "name": "python",
   "nbconvert_exporter": "python",
   "pygments_lexer": "ipython3",
   "version": "3.10.12"
  }
 },
 "nbformat": 4,
 "nbformat_minor": 5
}
